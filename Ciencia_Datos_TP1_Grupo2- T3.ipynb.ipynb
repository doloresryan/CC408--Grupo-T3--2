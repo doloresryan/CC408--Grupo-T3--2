{
 "cells": [
  {
   "cell_type": "code",
   "execution_count": 1,
   "id": "7cae1ec4-760b-4055-9661-65fc709baddb",
   "metadata": {},
   "outputs": [
    {
     "name": "stdout",
     "output_type": "stream",
     "text": [
      "¡Hola Grupo, Jupyter funciona bien!\n"
     ]
    }
   ],
   "source": [
    "import pandas as pd\n",
    "import numpy as np\n",
    "import matplotlib.pyplot as plt\n",
    "\n",
    "print(\"¡Hola Grupo, Jupyter funciona bien!\")"
   ]
  },
  {
   "cell_type": "code",
   "execution_count": null,
   "id": "774d3506-9480-4540-a326-969219f473ca",
   "metadata": {},
   "outputs": [],
   "source": []
  }
 ],
 "metadata": {
  "kernelspec": {
   "display_name": "Python 3 (ipykernel)",
   "language": "python",
   "name": "python3"
  },
  "language_info": {
   "codemirror_mode": {
    "name": "ipython",
    "version": 3
   },
   "file_extension": ".py",
   "mimetype": "text/x-python",
   "name": "python",
   "nbconvert_exporter": "python",
   "pygments_lexer": "ipython3",
   "version": "3.12.4"
  }
 },
 "nbformat": 4,
 "nbformat_minor": 5
}
